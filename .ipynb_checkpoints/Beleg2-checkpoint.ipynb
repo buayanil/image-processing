{
 "cells": [
  {
   "cell_type": "code",
   "execution_count": null,
   "id": "cd6a296a-7938-41e3-8e27-5b264cbc3bc5",
   "metadata": {},
   "outputs": [],
   "source": []
  }
 ],
 "metadata": {
  "kernelspec": {
   "display_name": "Python 3 (ipykernel)",
   "language": "python",
   "name": "python3"
  },
  "language_info": {
   "codemirror_mode": {
    "name": "ipython",
    "version": 3
   },
   "file_extension": ".py",
   "mimetype": "text/x-python",
   "name": "python",
   "nbconvert_exporter": "python",
   "pygments_lexer": "ipython3",
   "version": "3.12.3"
  }
 },
 "nbformat": 4,
 "nbformat_minor": 5
}
